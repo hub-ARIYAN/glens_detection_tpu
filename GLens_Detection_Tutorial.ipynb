{
 "cells": [
  {
   "cell_type": "markdown",
   "id": "3bf52ba6",
   "metadata": {},
   "source": [
    "# Gravitational Lensing Detection with MobileNetV3\n",
    "\n",
    "This notebook demonstrates a complete workflow for detecting gravitational lenses using deep learning and transfer learning with MobileNetV3. We will load and preprocess image data, train a classifier, evaluate its performance, and visualize results."
   ]
  },
  {
   "cell_type": "markdown",
   "id": "5929f135",
   "metadata": {},
   "source": [
    "## 1. Import Required Libraries\n",
    "Import essential libraries for data handling, visualization, and deep learning."
   ]
  },
  {
   "cell_type": "code",
   "execution_count": null,
   "id": "c238e300",
   "metadata": {},
   "outputs": [],
   "source": [
    "# Import Required Libraries\n",
    "import pandas as pd\n",
    "import numpy as np\n",
    "import matplotlib.pyplot as plt\n",
    "import os\n",
    "from sklearn.model_selection import train_test_split\n",
    "from sklearn.metrics import classification_report, confusion_matrix\n",
    "import tensorflow as tf\n",
    "from tensorflow.keras.preprocessing.image import ImageDataGenerator\n",
    "from tensorflow.keras.applications import MobileNetV3Small\n",
    "from tensorflow.keras.layers import Dense, GlobalAveragePooling2D, Dropout\n",
    "from tensorflow.keras.models import Model\n",
    "from tensorflow.keras.optimizers import Adam\n",
    "from tensorflow.keras.callbacks import EarlyStopping, ModelCheckpoint\n",
    "import tensorflow.keras.backend as K"
   ]
  },
  {
   "cell_type": "markdown",
   "id": "1b75f01e",
   "metadata": {},
   "source": [
    "## 2. Load and Explore the Dataset\n",
    "Load the CSV file and display the first few rows to understand the data structure."
   ]
  },
  {
   "cell_type": "code",
   "execution_count": null,
   "id": "46134e5e",
   "metadata": {},
   "outputs": [],
   "source": [
    "# Load the dataset\n",
    "csv_path = 'labelled_images_clean.csv'\n",
    "df = pd.read_csv(csv_path)\n",
    "df.head()"
   ]
  },
  {
   "cell_type": "code",
   "execution_count": null,
   "id": "2a3f2f12",
   "metadata": {},
   "outputs": [],
   "source": [
    "# Check for missing values\n",
    "print('Missing values per column:')\n",
    "print(df.isnull().sum())\n",
    "\n",
    "# Show class distribution\n",
    "print('Class distribution:')\n",
    "print(df['category'].value_counts())"
   ]
  },
  {
   "cell_type": "markdown",
   "id": "bad41658",
   "metadata": {},
   "source": [
    "## 3. Preprocess the Data\n",
    "Map categories to integers, split the dataset, and prepare data generators with augmentation."
   ]
  },
  {
   "cell_type": "code",
   "execution_count": null,
   "id": "539396f7",
   "metadata": {},
   "outputs": [],
   "source": [
    "# Map categories to integers\n",
    "label_map = {'A': 0, 'B': 1, 'C': 2}\n",
    "df['label'] = df['category'].map(label_map)\n",
    "\n",
    "# Split dataset\n",
    "train_df, temp_df = train_test_split(df, test_size=0.30, stratify=df['label'], random_state=42)\n",
    "val_df, test_df = train_test_split(temp_df, test_size=0.5, stratify=temp_df['label'], random_state=42)\n",
    "\n",
    "print(f\"Train: {len(train_df)}, Val: {len(val_df)}, Test: {len(test_df)}\")\n",
    "\n",
    "# Data generators\n",
    "IMG_SIZE = (128, 128)\n",
    "BATCH_SIZE = 32\n",
    "\n",
    "train_datagen = ImageDataGenerator(\n",
    "    rescale=1./255,\n",
    "    rotation_range=20,\n",
    "    width_shift_range=0.1,\n",
    "    height_shift_range=0.1,\n",
    "    shear_range=0.1,\n",
    "    zoom_range=0.1,\n",
    "    horizontal_flip=True,\n",
    "    fill_mode='nearest'\n",
    ")\n",
    "val_test_datagen = ImageDataGenerator(rescale=1./255)\n",
    "\n",
    "def make_generator(datagen, df, shuffle=True):\n",
    "    df = df.copy()\n",
    "    df['label'] = df['label'].astype(str)\n",
    "    return datagen.flow_from_dataframe(\n",
    "        dataframe=df,\n",
    "        directory='new_pngs',\n",
    "        x_col='img_src',\n",
    "        y_col='label',\n",
    "        target_size=IMG_SIZE,\n",
    "        batch_size=BATCH_SIZE,\n",
    "        class_mode='categorical',\n",
    "        shuffle=shuffle\n",
    "    )\n",
    "\n",
    "train_gen = make_generator(train_datagen, train_df)\n",
    "val_gen = make_generator(val_test_datagen, val_df, shuffle=False)\n",
    "test_gen = make_generator(val_test_datagen, test_df, shuffle=False)"
   ]
  },
  {
   "cell_type": "markdown",
   "id": "b381a07b",
   "metadata": {},
   "source": [
    "## 4. Build and Train a Machine Learning Model\n",
    "Build a MobileNetV3-based classifier, compile it, and train with early stopping and model checkpointing."
   ]
  },
  {
   "cell_type": "code",
   "execution_count": null,
   "id": "5921eac9",
   "metadata": {},
   "outputs": [],
   "source": [
    "# Build MobileNetV3 model\n",
    "base_model = MobileNetV3Small(\n",
    "    input_shape=IMG_SIZE + (3,),\n",
    "    include_top=False,\n",
    "    weights='imagenet'\n",
    ")\n",
    "\n",
    "# Freeze initial layers\n",
    "for layer in base_model.layers[:80]:\n",
    "    layer.trainable = False\n",
    "\n",
    "x = base_model.output\n",
    "x = GlobalAveragePooling2D()(x)\n",
    "x = Dropout(0.3)(x)\n",
    "x = Dense(64, activation='relu')(x)\n",
    "output = Dense(3, activation='softmax')(x)\n",
    "\n",
    "model = Model(inputs=base_model.input, outputs=output)\n",
    "\n",
    "def f1_score(y_true, y_pred):\n",
    "    y_pred = K.round(y_pred)\n",
    "    tp = K.sum(K.cast(y_true * y_pred, 'float'), axis=0)\n",
    "    fp = K.sum(K.cast((1-y_true) * y_pred, 'float'), axis=0)\n",
    "    fn = K.sum(K.cast(y_true * (1-y_pred), 'float'), axis=0)\n",
    "    precision = tp / (tp + fp + K.epsilon())\n",
    "    recall = tp / (tp + fn + K.epsilon())\n",
    "    f1 = 2*precision*recall / (precision + recall + K.epsilon())\n",
    "    return K.mean(f1)\n",
    "\n",
    "model.compile(\n",
    "    optimizer=Adam(learning_rate=1e-4),\n",
    "    loss='categorical_crossentropy',\n",
    "    metrics=['accuracy', f1_score]\n",
    ")\n",
    "\n",
    "callbacks = [\n",
    "    EarlyStopping(monitor='val_loss', patience=8, restore_best_weights=True),\n",
    "    ModelCheckpoint('best_model.h5', monitor='val_loss', save_best_only=True)\n",
    "]\n",
    "\n",
    "history = model.fit(\n",
    "    train_gen,\n",
    "    validation_data=val_gen,\n",
    "    epochs=50,\n",
    "    callbacks=callbacks,\n",
    "    steps_per_epoch=len(train_gen),\n",
    "    validation_steps=len(val_gen)\n",
    ")"
   ]
  },
  {
   "cell_type": "markdown",
   "id": "aeaa629d",
   "metadata": {},
   "source": [
    "## 5. Evaluate Model Performance\n",
    "Assess the model's performance on the test set and visualize training history."
   ]
  },
  {
   "cell_type": "code",
   "execution_count": null,
   "id": "7663fe2e",
   "metadata": {},
   "outputs": [],
   "source": [
    "# Evaluate on test set\n",
    "test_loss, test_acc, test_f1 = model.evaluate(test_gen)\n",
    "print(f\"Test Loss: {test_loss:.4f}, Test Accuracy: {test_acc:.4f}, Test F1: {test_f1:.4f}\")\n",
    "\n",
    "# Plot training history\n",
    "plt.plot(history.history['accuracy'], label='Train Acc')\n",
    "plt.plot(history.history['val_accuracy'], label='Val Acc')\n",
    "plt.plot(history.history['loss'], label='Train Loss')\n",
    "plt.plot(history.history['val_loss'], label='Val Loss')\n",
    "plt.legend()\n",
    "plt.title('Training History')\n",
    "plt.xlabel('Epoch')\n",
    "plt.ylabel('Value')\n",
    "plt.show()"
   ]
  },
  {
   "cell_type": "markdown",
   "id": "2ea03bdc",
   "metadata": {},
   "source": [
    "## 6. Make Predictions with the Trained Model\n",
    "Use the trained model to make predictions on new or unseen data and display a few sample predictions."
   ]
  },
  {
   "cell_type": "code",
   "execution_count": null,
   "id": "e056b5df",
   "metadata": {},
   "outputs": [],
   "source": [
    "# Make predictions on test data\n",
    "import random\n",
    "class_names = ['A', 'B', 'C']\n",
    "\n",
    "test_gen.reset()\n",
    "preds = model.predict(test_gen, verbose=1)\n",
    "pred_labels = np.argmax(preds, axis=1)\n",
    "true_labels = test_gen.classes\n",
    "\n",
    "# Show classification report\n",
    "print(classification_report(true_labels, pred_labels, target_names=class_names))\n",
    "\n",
    "# Show a few sample predictions with images\n",
    "indices = random.sample(range(len(test_gen.filenames)), 5)\n",
    "plt.figure(figsize=(15, 5))\n",
    "for i, idx in enumerate(indices):\n",
    "    img_path = os.path.join('new_pngs', test_gen.filenames[idx])\n",
    "    img = plt.imread(img_path)\n",
    "    plt.subplot(1, 5, i+1)\n",
    "    plt.imshow(img)\n",
    "    plt.axis('off')\n",
    "    plt.title(f\"True: {class_names[true_labels[idx]]}\\nPred: {class_names[pred_labels[idx]]}\")\n",
    "plt.show()"
   ]
  }
 ],
 "metadata": {
  "kernelspec": {
   "display_name": ".venv (3.10.11)",
   "language": "python",
   "name": "python3"
  },
  "language_info": {
   "name": "python",
   "version": "3.10.11"
  }
 },
 "nbformat": 4,
 "nbformat_minor": 5
}
